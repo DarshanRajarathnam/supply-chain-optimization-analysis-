{
  "nbformat": 4,
  "nbformat_minor": 0,
  "metadata": {
    "colab": {
      "provenance": []
    },
    "kernelspec": {
      "name": "python3",
      "display_name": "Python 3"
    },
    "language_info": {
      "name": "python"
    }
  },
  "cells": [
    {
      "cell_type": "code",
      "execution_count": 9,
      "metadata": {
        "id": "wJtyosmVfGf-",
        "colab": {
          "base_uri": "https://localhost:8080/"
        },
        "outputId": "e90043b3-395f-48b1-bda7-1c7cad9324ad"
      },
      "outputs": [
        {
          "output_type": "stream",
          "name": "stderr",
          "text": [
            "/usr/local/lib/python3.10/dist-packages/pulp/pulp.py:1298: UserWarning: Spaces are not permitted in the name. Converted to '_'\n",
            "  warnings.warn(\"Spaces are not permitted in the name. Converted to '_'\")\n"
          ]
        },
        {
          "output_type": "stream",
          "name": "stdout",
          "text": [
            "Scenario with Demand Multiplier=1.0, Cost Multiplier=1.0: Total Costs = 92981000 USD, Status = Optimal\n",
            "Scenario with Demand Multiplier=1.1, Cost Multiplier=1.0: Total Costs = 101940100 USD, Status = Optimal\n",
            "Scenario with Demand Multiplier=1.0, Cost Multiplier=1.1: Total Costs = 102279100 USD, Status = Optimal\n",
            "Scenario with Demand Multiplier=0.9, Cost Multiplier=1.0: Total Costs = 84021900 USD, Status = Optimal\n",
            "Scenario with Demand Multiplier=1.0, Cost Multiplier=0.9: Total Costs = 83682900 USD, Status = Optimal\n"
          ]
        }
      ],
      "source": [
        "import pandas as pd\n",
        "from pulp import *\n",
        "\n",
        "# Import data\n",
        "manvar_costs = pd.read_excel('variable_costs.xlsx', index_col=0)\n",
        "freight_costs = pd.read_excel('freight_costs.xlsx', index_col=0)\n",
        "fixed_costs = pd.read_excel('fixed_cost.xlsx', index_col=0)\n",
        "cap = pd.read_excel('capacity.xlsx', index_col=0)\n",
        "demand = pd.read_excel('demand.xlsx', skiprows=1, usecols=[1, 2], names=['Location', 'Demand'])\n",
        "\n",
        "# Clean and prepare data\n",
        "manvar_costs.index = manvar_costs.index.astype(str).str.strip()\n",
        "freight_costs.index = freight_costs.index.astype(str).str.strip()\n",
        "fixed_costs.index = fixed_costs.index.astype(str).str.strip()\n",
        "cap.index = cap.index.astype(str).str.strip()\n",
        "demand['Location'] = demand['Location'].astype(str).str.strip()\n",
        "demand = demand.set_index('Location')\n",
        "\n",
        "# Calculate variable costs\n",
        "var_cost = freight_costs / 1000 + manvar_costs\n",
        "\n",
        "# Sensitivity Analysis Function\n",
        "def run_sensitivity_analysis(demand_multiplier=1.0, cost_multiplier=1.0):\n",
        "    # Define decision variables and model\n",
        "    loc = ['USA', 'Germany', 'Japan', 'Brazil', 'India']\n",
        "    size = ['Low', 'High']\n",
        "    model = LpProblem(\"Capacitated Plant Location Model - Sensitivity Analysis\", LpMinimize)\n",
        "    x = LpVariable.dicts(\"production_\", [(i, j) for i in loc for j in loc], lowBound=0, upBound=None, cat='Continuous')\n",
        "    y = LpVariable.dicts(\"plant_\", [(i, s) for s in size for i in loc], cat='Binary')\n",
        "\n",
        "    # Adjust demand and costs for sensitivity analysis\n",
        "    adjusted_demand = {k: v * demand_multiplier for k, v in demand['Demand'].items()}\n",
        "    adjusted_fixed_costs = fixed_costs * cost_multiplier\n",
        "    adjusted_var_cost = var_cost * cost_multiplier\n",
        "\n",
        "    # Define objective function with adjusted costs\n",
        "    model += (lpSum([adjusted_fixed_costs.loc[i, s] * y[(i, s)] * 1000 for s in size for i in loc])\n",
        "              + lpSum([adjusted_var_cost.loc[i, j] * x[(i, j)] for i in loc for j in loc]))\n",
        "\n",
        "    # Add constraints with adjusted demand\n",
        "    for j in loc:\n",
        "        if j in adjusted_demand:\n",
        "            model += lpSum([x[(i, j)] for i in loc]) == adjusted_demand[j]\n",
        "    for i in loc:\n",
        "        model += lpSum([x[(i, j)] for j in loc]) <= lpSum([cap.loc[i, s] * y[(i, s)] * 1000 for s in size])\n",
        "\n",
        "    # Solve model\n",
        "    model.solve()\n",
        "\n",
        "    # Return the results\n",
        "    total_costs = int(value(model.objective))\n",
        "    status = LpStatus[model.status]\n",
        "    return total_costs, status\n",
        "\n",
        "# Example Sensitivity Analysis Scenarios\n",
        "scenarios = [(1.0, 1.0), (1.1, 1.0), (1.0, 1.1), (0.9, 1.0), (1.0, 0.9)]\n",
        "for demand_mult, cost_mult in scenarios:\n",
        "    total_costs, status = run_sensitivity_analysis(demand_multiplier=demand_mult, cost_multiplier=cost_mult)\n",
        "    print(f\"Scenario with Demand Multiplier={demand_mult}, Cost Multiplier={cost_mult}: Total Costs = {total_costs} USD, Status = {status}\")\n"
      ]
    },
    {
      "cell_type": "code",
      "source": [],
      "metadata": {
        "id": "6iPquKuHygj5"
      },
      "execution_count": null,
      "outputs": []
    }
  ]
}